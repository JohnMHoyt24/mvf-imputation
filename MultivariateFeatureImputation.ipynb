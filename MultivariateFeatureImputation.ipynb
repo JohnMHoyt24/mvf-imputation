{
  "nbformat": 4,
  "nbformat_minor": 0,
  "metadata": {
    "colab": {
      "name": "MultivariateFeatureImputation.ipynb",
      "provenance": []
    },
    "kernelspec": {
      "name": "python3",
      "display_name": "Python 3"
    }
  },
  "cells": [
    {
      "cell_type": "code",
      "metadata": {
        "id": "xITu1LMRUIQx"
      },
      "source": [
        "import pandas as pd\r\n",
        "import numpy as np\r\n"
      ],
      "execution_count": 1,
      "outputs": []
    },
    {
      "cell_type": "code",
      "metadata": {
        "id": "xzsjRxaUUi9p"
      },
      "source": [
        "from sklearn.experimental import enable_iterative_imputer\r\n",
        "from sklearn.impute import IterativeImputer\r\n"
      ],
      "execution_count": 2,
      "outputs": []
    },
    {
      "cell_type": "code",
      "metadata": {
        "id": "d-VWNi2lVGF5"
      },
      "source": [
        "imp = IterativeImputer(max_iter=100, random_state=0)\r\n"
      ],
      "execution_count": 3,
      "outputs": []
    },
    {
      "cell_type": "code",
      "metadata": {
        "id": "J-A64KKpVhTq"
      },
      "source": [
        "features = [[4, 2, 1],\r\n",
        "            [24, 12, 6],\r\n",
        "            [8, np.nan, 2],\r\n",
        "            [28, 14, 7],\r\n",
        "            [32, 16, np.nan],\r\n",
        "            [600, 300, 150],\r\n",
        "            [np.nan, np.nan, 1]]\r\n"
      ],
      "execution_count": 5,
      "outputs": []
    },
    {
      "cell_type": "code",
      "metadata": {
        "colab": {
          "base_uri": "https://localhost:8080/"
        },
        "id": "eDcZ3gLtW3-Z",
        "outputId": "c1a33d56-6275-4793-9130-52bb778fb217"
      },
      "source": [
        "imp.fit(features)"
      ],
      "execution_count": 6,
      "outputs": [
        {
          "output_type": "execute_result",
          "data": {
            "text/plain": [
              "IterativeImputer(add_indicator=False, estimator=None,\n",
              "                 imputation_order='ascending', initial_strategy='mean',\n",
              "                 max_iter=100, max_value=None, min_value=None,\n",
              "                 missing_values=nan, n_nearest_features=None, random_state=0,\n",
              "                 sample_posterior=False, skip_complete=False, tol=0.001,\n",
              "                 verbose=0)"
            ]
          },
          "metadata": {
            "tags": []
          },
          "execution_count": 6
        }
      ]
    },
    {
      "cell_type": "code",
      "metadata": {
        "colab": {
          "base_uri": "https://localhost:8080/"
        },
        "id": "WWuSIo7qW-N4",
        "outputId": "b80da2d5-1d81-4dfd-df41-6f2a05926318"
      },
      "source": [
        "imp.transform(features)"
      ],
      "execution_count": 7,
      "outputs": [
        {
          "output_type": "execute_result",
          "data": {
            "text/plain": [
              "array([[  4.        ,   2.        ,   1.        ],\n",
              "       [ 24.        ,  12.        ,   6.        ],\n",
              "       [  8.        ,   4.00000014,   2.        ],\n",
              "       [ 28.        ,  14.        ,   7.        ],\n",
              "       [ 32.        ,  16.        ,   6.40584095],\n",
              "       [600.        , 300.        , 150.        ],\n",
              "       [ 37.73978835,  18.86989138,   1.        ]])"
            ]
          },
          "metadata": {
            "tags": []
          },
          "execution_count": 7
        }
      ]
    },
    {
      "cell_type": "code",
      "metadata": {
        "id": "SiipcBWNXRZB"
      },
      "source": [
        "X_test = [[np.nan, 24, 12],\r\n",
        "          [36, np.nan, np.nan],\r\n",
        "          [100, np.nan, 25],\r\n",
        "          [np.nan, 6, 3],\r\n",
        "          [np.nan, 8, np.nan]]\r\n"
      ],
      "execution_count": 8,
      "outputs": []
    },
    {
      "cell_type": "code",
      "metadata": {
        "colab": {
          "base_uri": "https://localhost:8080/"
        },
        "id": "TvhkdC3JXqCo",
        "outputId": "283818e2-4bd6-436d-e63b-aea263c42d21"
      },
      "source": [
        "imp.transform(X_test)"
      ],
      "execution_count": 9,
      "outputs": [
        {
          "output_type": "execute_result",
          "data": {
            "text/plain": [
              "array([[ 47.99999997,  24.        ,  12.        ],\n",
              "       [ 36.        ,  17.99999958,   7.41470823],\n",
              "       [100.        ,  50.00000012,  25.        ],\n",
              "       [ 11.99999997,   6.        ,   3.        ],\n",
              "       [ 15.99999984,   8.        ,   2.37037162]])"
            ]
          },
          "metadata": {
            "tags": []
          },
          "execution_count": 9
        }
      ]
    },
    {
      "cell_type": "code",
      "metadata": {
        "colab": {
          "base_uri": "https://localhost:8080/"
        },
        "id": "dWq0unm3X9iQ",
        "outputId": "c01b4972-324e-4dfe-8142-54b004f0deae"
      },
      "source": [
        ""
      ],
      "execution_count": 12,
      "outputs": [
        {
          "output_type": "stream",
          "text": [
            "sample_data\n"
          ],
          "name": "stdout"
        }
      ]
    }
  ]
}